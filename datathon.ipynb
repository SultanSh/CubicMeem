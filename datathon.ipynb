{
  "nbformat": 4,
  "nbformat_minor": 0,
  "metadata": {
    "colab": {
      "provenance": []
    },
    "kernelspec": {
      "name": "python3",
      "display_name": "Python 3"
    },
    "language_info": {
      "name": "python"
    }
  },
  "cells": [
    {
      "cell_type": "code",
      "execution_count": null,
      "metadata": {
        "colab": {
          "base_uri": "https://localhost:8080/"
        },
        "id": "OKm-qPzkpYKf",
        "outputId": "139ff7d2-1715-47c0-d5c6-68c930403761"
      },
      "outputs": [
        {
          "output_type": "stream",
          "name": "stdout",
          "text": [
            "/content\n",
            "[3.833333333333333, 4.166666666666667, 4.5, 7.500000000000001, 6.166666666666667, 4.5, 5.5, 3.833333333333333, 2.5, 7.5]\n",
            "Sorted List: [7.500000000000001, 7.5, 6.166666666666667, 5.5, 4.5, 4.5, 4.166666666666667, 3.833333333333333, 3.833333333333333, 2.5]\n",
            "Sorted Indices: [3, 9, 4, 6, 2, 5, 1, 0, 7, 8]\n",
            "The Home with index zero is the most suitable for the user\n"
          ]
        }
      ],
      "source": [
        "# -- coding: utf-8 --\n",
        "\n",
        "import pandas as pd\n",
        "from scipy.io import savemat\n",
        "\n",
        "import os\n",
        "\n",
        "current_path = os.getcwd()\n",
        "print(current_path)\n",
        "\n",
        "import numpy as np\n",
        "\n",
        "# Define the dimensions of the 2D array\n",
        "nHomes = 10\n",
        "nAttributes = 3\n",
        "\n",
        "# Define the lower and upper bounds for each column\n",
        "# randomly generating [بعد السكن عن مكان العمل, عدد الغرف ،سعر الوحدة]\n",
        "lower_bounds = [100000 , -1,      0] #عدد الغرف بالسالب بسبب أن كثرة الغرف أفضل\n",
        "upper_bounds = [1000000, -5, 100000]\n",
        "\n",
        "# Generate the 2D array with different bounds for each column\n",
        "homesData = np.array([np.random.uniform(low=lower_bounds[i], high=upper_bounds[i], size=nHomes) for i in range(nAttributes)]).T\n",
        "\n",
        "# print(homesData)\n",
        "# Python 3 program to demonstrate working\n",
        "# of method 1 and method 2.\n",
        "# rows, cols = (nHomes, nHomes)\n",
        "\n",
        "# method 2 1st approach\n",
        "competitionMatrix=[]\n",
        "rows, cols = nHomes, nHomes\n",
        "for i in range(rows):\n",
        "    col = []\n",
        "    for j in range(cols):\n",
        "        col.append(0)\n",
        "    competitionMatrix.append(col)\n",
        "#print(competitionMatrix)\n",
        "\n",
        "for iHome in range(nHomes):\n",
        "  for jHome in range(nHomes):\n",
        "    if iHome == jHome:\n",
        "      competitionMatrix[iHome][jHome] = 0.5\n",
        "#      print(competitionMatrix[iHome][jHome])\n",
        "    else:\n",
        "      temp = 0.0\n",
        "      for iAttribute in range(nAttributes):\n",
        "        if homesData[iHome,iAttribute] == homesData[jHome,iAttribute]:\n",
        "          temp = temp + 0.5\n",
        "        else:\n",
        "          temp = temp + (int)(homesData[iHome,iAttribute] < homesData[jHome,iAttribute])\n",
        "      temp = temp/nAttributes\n",
        "      competitionMatrix[iHome][jHome] = temp\n",
        "#      print(competitionMatrix[iHome][jHome])\n",
        "\n",
        "\n",
        "row_sums = [sum(row) for row in competitionMatrix]\n",
        "\n",
        "print(row_sums)\n",
        "\n",
        "# Sorting the list and returning the indices\n",
        "sorted_with_indices = sorted(enumerate(row_sums), key=lambda x: x[1], reverse=True)\n",
        "\n",
        "# Extracting the sorted list and indices\n",
        "sorted_list = [item[1] for item in sorted_with_indices]\n",
        "sorted_indices = [item[0] for item in sorted_with_indices]\n",
        "\n",
        "print(\"Sorted List:\", sorted_list)\n",
        "print(\"Sorted Indices:\", sorted_indices)\n",
        "\n",
        "print('The Home with index zero is the most suitable for the user')"
      ]
    },
    {
      "cell_type": "code",
      "source": [],
      "metadata": {
        "id": "1WwHhp3e5TR3"
      },
      "execution_count": null,
      "outputs": []
    }
  ]
}